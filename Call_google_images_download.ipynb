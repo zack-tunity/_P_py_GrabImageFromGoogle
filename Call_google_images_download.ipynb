{
 "cells": [
  {
   "cell_type": "code",
   "execution_count": null,
   "metadata": {
    "scrolled": true
   },
   "outputs": [],
   "source": [
    "from google_images_download import google_images_download\n",
    "\n",
    "response = google_images_download.googleimagesdownload()\n",
    "arguments = {\"keywords\":\n",
    "              \"Athena Chu 0,Athena Chu 1,Athena Chu 2,Athena Chu 3,Athena Chu 4,\"\n",
    "             #+\"Athena Chu 5,Athena Chu 6,Athena Chu 7,Athena Chu 8,Athena Chu 9,\"\n",
    "             \n",
    "             +\"Tony Leung Chiu Wai 0,Tony Leung Chiu Wai 1,Tony Leung Chiu Wai 2,Tony Leung Chiu Wai 3,Tony Leung Chiu Wai 4,\"\n",
    "             #+\"Tony Leung Chiu Wai 5,Tony Leung Chiu Wai 6,Tony Leung Chiu Wai 7,Tony Leung Chiu Wai 8,Tony Leung Chiu Wai 9,\"\n",
    "             \n",
    "             +\"Guido Van Rossum 0,Guido Van Rossum 1,Guido Van Rossum 2,Guido Van Rossum 3,Guido Van Rossum 4,\"\n",
    "             #+\"Guido Van Rossum 5,Guido Van Rossum 6,Guido Van Rossum 7,Guido Van Rossum 8,Guido Van Rossum 9,\"\n",
    "             \n",
    "             +\"Usain Bolt 0,Usain Bolt 1,Usain Bolt 2,Usain Bolt 3,Usain Bolt 4,\"\n",
    "             #+\"Usain Bolt 5,Usain Bolt 6,Usain Bolt 7,Usain Bolt 8,Usain Bolt 9\"\n",
    "             \n",
    "             +\"robert downey Jr 0,robert downey Jr 1,robert downey Jr 2,robert downey Jr 3,robert downey Jr 4,\"\n",
    "             #+\"robert downey Jr 5,robert downey Jr 6,robert downey Jr 7,robert downey Jr 8,robert downey Jr 9,\"\n",
    "             \n",
    "             +\"Shaquille O Neal 0,Shaquille O Neal 1,Shaquille O Neal 2,Shaquille O Neal 3,Shaquille O Neal 4,\"\n",
    "             #+\"Shaquille O Neal 5,Shaquille O Neal 6,Shaquille O Neal 7,Shaquille O Neal 8,Shaquille O Neal 9,\"\n",
    "             \n",
    "             +\"Will Smith 0,Will Smith 1,Will Smith 2,Will Smith 3,Will Smith 4,\"\n",
    "             #+\"Will Smith 5,Will Smith 6,Will Smith 7,Will Smith 8,Will Smith 9,\"\n",
    "             \n",
    "             +\"Audrey Hepburn 0,Audrey Hepburn 1,Audrey Hepburn 2,Audrey Hepburn 3,Audrey Hepburn 4,\"\n",
    "             #+\"Audrey Hepburn 5,Audrey Hepburn 6,Audrey Hepburn 7,Audrey Hepburn 8,Audrey Hepburn 9,\"\n",
    "             \n",
    "             +\"Yue yunpeng 0,Yue yunpeng 1,Yue yunpeng 2,Yue yunpeng 3,Yue yunpeng 4,\"\n",
    "             #+\"Yue yunpeng 5,Yue yunpeng 6,Yue yunpeng 7,Yue yunpeng 8,Yue yunpeng 9,\"\n",
    "             \n",
    "             +\"Megan Denise Fox 0,Megan Denise Fox 1,Megan Denise Fox 2,Megan Denise Fox 3,Megan Denise Fox 4\"\n",
    "             #+\"Megan Denise Fox 5,Megan Denise Fox 6, Megan Denise Fox 7,Megan Denise Fox 8,Megan Denise Fox 9,\"\n",
    "             ,\"limit\":30,\"print_urls\":True,\"chromedriver\":\".\\libs\\chromedriver.exe\"}   #creating list of arguments\n",
    "paths = response.download(arguments) \n",
    "print(paths)"
   ]
  },
  {
   "cell_type": "code",
   "execution_count": null,
   "metadata": {},
   "outputs": [],
   "source": []
  }
 ],
 "metadata": {
  "kernelspec": {
   "display_name": "Python 3",
   "language": "python",
   "name": "python3"
  },
  "language_info": {
   "codemirror_mode": {
    "name": "ipython",
    "version": 3
   },
   "file_extension": ".py",
   "mimetype": "text/x-python",
   "name": "python",
   "nbconvert_exporter": "python",
   "pygments_lexer": "ipython3",
   "version": "3.6.7"
  }
 },
 "nbformat": 4,
 "nbformat_minor": 2
}
